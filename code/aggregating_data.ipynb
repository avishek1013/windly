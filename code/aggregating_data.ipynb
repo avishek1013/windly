{
 "cells": [
  {
   "cell_type": "code",
   "execution_count": 1,
   "metadata": {
    "collapsed": true
   },
   "outputs": [],
   "source": [
    "import numpy as np\n",
    "import pandas as pd"
   ]
  },
  {
   "cell_type": "code",
   "execution_count": 133,
   "metadata": {
    "collapsed": false
   },
   "outputs": [],
   "source": [
    "# Generating a dictionary with all the forecast data\n",
    "wf_base = '../data/windforecasts_wf'\n",
    "features = ['u', 'v', 'ws', 'wd']\n",
    "wf_forecast_dict = {}\n",
    "for wf_id in range(1, 8):\n",
    "    wf_file = wf_base + str(wf_id) + '.csv'\n",
    "    wf_data = pd.read_csv(wf_file)\n",
    "    \n",
    "    for idx, row in wf_data.iterrows():\n",
    "        key = str(int(row['date']) + (int(row['hors']))) + '_' + str(wf_id)\n",
    "        if key not in wf_forecast_dict:\n",
    "            wf_forecast_dict[key] = [row[features]]\n",
    "        else:\n",
    "            wf_forecast_dict[key].append(row[features])"
   ]
  },
  {
   "cell_type": "code",
   "execution_count": 148,
   "metadata": {
    "collapsed": false
   },
   "outputs": [],
   "source": [
    "train = pd.read_csv('../data/train.csv')\n",
    "train_virtual = np.concatenate((train['wp1'].values, train['wp2'].values, train['wp3'].values, train['wp4'].values, train['wp5'].values, train['wp6'].values, train['wp7'].values))\n",
    "wf_ids = np.concatenate(([1] * len(train['wp1']), [2] * len(train['wp2']), [3] * len(train['wp3']), [4] * len(train['wp4']), [5] * len(train['wp5']), [6] * len(train['wp6']), [7] * len(train['wp7'])))\n",
    "wf_dates = np.ravel([train['date'].values] * 7)\n",
    "\n",
    "virtual_data = pd.DataFrame(np.vstack((wf_dates, wf_ids, train_virtual)).T, columns=['date', 'wf_id', 'energy'])"
   ]
  },
  {
   "cell_type": "code",
   "execution_count": 136,
   "metadata": {
    "collapsed": false
   },
   "outputs": [],
   "source": [
    "avg_forecast = []\n",
    "for idx, row in virtual_data.iterrows():\n",
    "    key = str(int(row['date'])) + '_' + str(int(row['wf_id']))\n",
    "    if key not in wf_forecast_dict:\n",
    "        avg_forecast.append(np.array([np.nan, np.nan, np.nan, np.nan]))\n",
    "    else:\n",
    "        avg_forecast.append(np.average(wf_forecast_dict[key], axis=0))"
   ]
  },
  {
   "cell_type": "code",
   "execution_count": 159,
   "metadata": {
    "collapsed": false
   },
   "outputs": [],
   "source": [
    "avg_forecast = pd.DataFrame(avg_forecast, columns=features)\n",
    "virtual_data_aggregate = virtual_data.join(avg_forecast)\n",
    "virtual_data_aggregate[['date', 'wf_id']] = virtual_data_aggregate[['date', 'wf_id']].astype(int)\n",
    "virtual_data_aggregate.to_csv('../data/virtual_aggregate_data.csv')"
   ]
  },
  {
   "cell_type": "code",
   "execution_count": null,
   "metadata": {
    "collapsed": true
   },
   "outputs": [],
   "source": []
  }
 ],
 "metadata": {
  "anaconda-cloud": {},
  "kernelspec": {
   "display_name": "Python [conda env:py27]",
   "language": "python",
   "name": "conda-env-py27-py"
  },
  "language_info": {
   "codemirror_mode": {
    "name": "ipython",
    "version": 2
   },
   "file_extension": ".py",
   "mimetype": "text/x-python",
   "name": "python",
   "nbconvert_exporter": "python",
   "pygments_lexer": "ipython2",
   "version": "2.7.12"
  }
 },
 "nbformat": 4,
 "nbformat_minor": 1
}
